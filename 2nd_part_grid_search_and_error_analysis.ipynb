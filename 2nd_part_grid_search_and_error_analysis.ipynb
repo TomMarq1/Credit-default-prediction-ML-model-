{
 "cells": [
  {
   "cell_type": "markdown",
   "metadata": {},
   "source": [
    "# 2nd part: Gridsearch and error analysis<br>\n",
    "As mentioned before in the second part of this project we are going to attempt to improve the performance of the random forest with a grid search cross validation, trying out another strategy for filling NaNs and rebalancing the dataset. <br> \n",
    "Afterwards we are going to specifically analyse the incorrect predictions of the optimised random forest. We are going to try to find the kind of loans that were predicted incorrectly and try to understand the reason why the predictions were false.<br>\n",
    "Following this we then will use this knowledge to attempt to improve performance.\n",
    "\n",
    "The structure of the second part of this project is:\n",
    "\n",
    "1. Importing required code from the previous part\n",
    "2. Optimising the random forest with gridsearchCV\n",
    "3. Error analysis\n",
    "4. Interim result"
   ]
  },
  {
   "cell_type": "markdown",
   "metadata": {},
   "source": [
    "# 1. Importing required code from the previous part"
   ]
  },
  {
   "cell_type": "code",
   "execution_count": 16,
   "metadata": {},
   "outputs": [],
   "source": [
    "import pandas as pd\n",
    "import numpy as np\n",
    "\n",
    "raw_df = pd.read_csv(\"https://github.com/TomMarq1/Credit_default_prediction_-ML-model-/raw/main/credit_risk_dataset.csv\")"
   ]
  },
  {
   "cell_type": "code",
   "execution_count": 17,
   "metadata": {},
   "outputs": [],
   "source": [
    "raw_df.drop_duplicates(inplace=True)"
   ]
  },
  {
   "cell_type": "code",
   "execution_count": 18,
   "metadata": {},
   "outputs": [],
   "source": [
    "cleaned_df = raw_df.copy()\n",
    "cleaned_df[\"person_emp_length\"].fillna(0, inplace = True)"
   ]
  },
  {
   "cell_type": "code",
   "execution_count": 19,
   "metadata": {},
   "outputs": [],
   "source": [
    "loan_grade_categories = [\"A\", \"B\", \"C\", \"D\", \"E\", \"F\", \"G\"]\n",
    "corresp_avg_int_rates = cleaned_df.groupby(\"loan_grade\").mean()[\"loan_int_rate\"].to_list()"
   ]
  },
  {
   "cell_type": "code",
   "execution_count": 20,
   "metadata": {},
   "outputs": [],
   "source": [
    "for i in range(len(loan_grade_categories)):\n",
    "\n",
    "    \n",
    "    x = cleaned_df[cleaned_df[\"loan_int_rate\"].isna()].query(\"loan_grade == @loan_grade_categories[@i]\")\n",
    "\n",
    "    \n",
    "    cleaned_df.loc[x.index, \"loan_int_rate\"] = corresp_avg_int_rates[i]\n",
    "    \n",
    "    \n",
    "    "
   ]
  },
  {
   "cell_type": "code",
   "execution_count": 21,
   "metadata": {},
   "outputs": [],
   "source": [
    "X = cleaned_df.drop(columns=[\"loan_status\"])\n",
    "y = cleaned_df[\"loan_status\"]"
   ]
  },
  {
   "cell_type": "code",
   "execution_count": 22,
   "metadata": {},
   "outputs": [],
   "source": [
    "from sklearn.model_selection import train_test_split\n",
    "\n",
    "X_train, X_test, y_train, y_test = train_test_split(X, y, test_size=0.3, random_state=8)"
   ]
  },
  {
   "cell_type": "code",
   "execution_count": 23,
   "metadata": {},
   "outputs": [],
   "source": [
    "num_col = X_train.select_dtypes(\"number\").columns.to_list()"
   ]
  },
  {
   "cell_type": "code",
   "execution_count": 24,
   "metadata": {},
   "outputs": [],
   "source": [
    "from sklearn.preprocessing import StandardScaler\n",
    "\n",
    "sc = StandardScaler()\n",
    "X_train_num_col_scaled = sc.fit_transform(X_train[num_col])\n",
    "X_test_num_col_scaled = sc.transform(X_test[num_col])\n"
   ]
  },
  {
   "cell_type": "code",
   "execution_count": 25,
   "metadata": {},
   "outputs": [],
   "source": [
    "cat_col = X_train.select_dtypes(\"object\").columns.to_list()"
   ]
  },
  {
   "cell_type": "code",
   "execution_count": 26,
   "metadata": {},
   "outputs": [],
   "source": [
    "non_ord_category_col = [cat_col[1]]"
   ]
  },
  {
   "cell_type": "code",
   "execution_count": 27,
   "metadata": {},
   "outputs": [],
   "source": [
    "from sklearn.preprocessing import OneHotEncoder\n",
    "\n",
    "ohenc = OneHotEncoder(sparse=False)\n",
    "X_train_non_ord_cat_col_enc = ohenc.fit_transform(X_train[non_ord_category_col])\n",
    "X_test_non_ord_cat_col_enc = ohenc.transform(X_test[non_ord_category_col])"
   ]
  },
  {
   "cell_type": "code",
   "execution_count": 28,
   "metadata": {},
   "outputs": [
    {
     "data": {
      "text/plain": [
       "['cb_person_default_on_file', 'person_home_ownership', 'loan_grade']"
      ]
     },
     "execution_count": 28,
     "metadata": {},
     "output_type": "execute_result"
    }
   ],
   "source": [
    "ord_category_col = list((set(X_train.columns.to_list()) - set(num_col) - set(non_ord_category_col)))\n",
    "ord_category_col\n",
    "\n"
   ]
  },
  {
   "cell_type": "code",
   "execution_count": 29,
   "metadata": {},
   "outputs": [],
   "source": [
    "from sklearn.preprocessing import OrdinalEncoder\n",
    "\n",
    "cb_person_default_on_file_cats = [\"Y\", \"N\"]\n",
    "loan_grade_cats =[\"G\", \"F\", \"E\", \"D\", \"C\", \"B\", \"A\"]\n",
    "person_home_ownership_cats = [\"OTHER\", \"RENT\", \"MORTGAGE\", \"OWN\"]\n",
    "\n",
    "cats_ord = [cb_person_default_on_file_cats, person_home_ownership_cats, loan_grade_cats]\n",
    "## for unkown reasons the order of the items in ord_category_col changes every time the notebook is run. This can lead to an error in cell [19]. \n",
    "## to resolve the error rearrange the item order in cats_ord in this cell according to the item order of ord_category_col in cell above"
   ]
  },
  {
   "cell_type": "code",
   "execution_count": 30,
   "metadata": {},
   "outputs": [],
   "source": [
    "ord_enc = OrdinalEncoder(categories= cats_ord)\n",
    "X_train_ord_cat_enc = ord_enc.fit_transform(X_train[ord_category_col])\n",
    "X_test_ord_cat_enc = ord_enc.transform(X_test[ord_category_col])\n",
    "# if error occurs check comment in cell above for fixing\n"
   ]
  },
  {
   "cell_type": "code",
   "execution_count": 31,
   "metadata": {},
   "outputs": [],
   "source": [
    "X_train_processed = pd.concat([pd.DataFrame(X_train_num_col_scaled, #dataframe with scaled numerical columns\n",
    "                               columns = num_col),\n",
    "                               pd.DataFrame(X_train_non_ord_cat_col_enc, #dataframe with encoded non ordinal categorical columns\n",
    "                               columns = ohenc.get_feature_names_out()),\n",
    "                               pd.DataFrame(X_train_ord_cat_enc, # dataframe with encoded ordinal categorical columns\n",
    "                               columns = ord_category_col) \n",
    "\n",
    "                               \n",
    "                               ], axis=1)"
   ]
  },
  {
   "cell_type": "code",
   "execution_count": 32,
   "metadata": {},
   "outputs": [],
   "source": [
    "X_test_processed = pd.concat([pd.DataFrame(X_test_num_col_scaled, #dataframe with scaled numerical columns\n",
    "                               columns = num_col),\n",
    "                               pd.DataFrame(X_test_non_ord_cat_col_enc, #dataframe with encoded non ordinal categorical columns\n",
    "                               columns = ohenc.get_feature_names_out()),\n",
    "                               pd.DataFrame(X_test_ord_cat_enc, # dataframe with encoded ordinal categorical columns\n",
    "                               columns = ord_category_col) \n",
    "\n",
    "                               \n",
    "                               ], axis=1)"
   ]
  },
  {
   "cell_type": "markdown",
   "metadata": {},
   "source": [
    "# 2. Optimising the random forest with gridsearchCV\n",
    "<br>\n",
    "Now we try to improve the random forest by finding better hyperparameters for it. We use GridsearchCV for this task. GridearchCV tries out different kind of combinations of hyperparameters and sticks with the best performing ones."
   ]
  },
  {
   "cell_type": "code",
   "execution_count": 33,
   "metadata": {},
   "outputs": [],
   "source": [
    "from sklearn.tree import DecisionTreeClassifier\n",
    "from sklearn.model_selection import GridSearchCV\n",
    "from sklearn.ensemble import RandomForestClassifier\n",
    "from sklearn.metrics import accuracy_score"
   ]
  },
  {
   "cell_type": "code",
   "execution_count": 34,
   "metadata": {},
   "outputs": [],
   "source": [
    "random_forest = RandomForestClassifier(random_state= 42)"
   ]
  },
  {
   "cell_type": "code",
   "execution_count": 35,
   "metadata": {},
   "outputs": [],
   "source": [
    "random_forest_params = {\"n_estimators\" : [100, 150],\n",
    "                        \"max_depth\"    : [10, 15, 20] ,\n",
    "                        \"min_samples_leaf\" : [50, 80],\n",
    "                        \"min_samples_split\" : [50,100]}\n"
   ]
  },
  {
   "cell_type": "code",
   "execution_count": 36,
   "metadata": {},
   "outputs": [],
   "source": [
    "clf_GS = GridSearchCV(random_forest, random_forest_params, scoring =\"accuracy\", verbose= 1)"
   ]
  },
  {
   "cell_type": "code",
   "execution_count": 37,
   "metadata": {},
   "outputs": [
    {
     "name": "stdout",
     "output_type": "stream",
     "text": [
      "Fitting 5 folds for each of 24 candidates, totalling 120 fits\n"
     ]
    }
   ],
   "source": [
    "result_rf = clf_GS.fit(X_train_processed, y_train)"
   ]
  },
  {
   "cell_type": "code",
   "execution_count": 38,
   "metadata": {},
   "outputs": [
    {
     "data": {
      "text/plain": [
       "{'max_depth': 10,\n",
       " 'min_samples_leaf': 50,\n",
       " 'min_samples_split': 50,\n",
       " 'n_estimators': 100}"
      ]
     },
     "execution_count": 38,
     "metadata": {},
     "output_type": "execute_result"
    }
   ],
   "source": [
    "result_rf.best_params_"
   ]
  },
  {
   "cell_type": "code",
   "execution_count": 39,
   "metadata": {},
   "outputs": [],
   "source": [
    "rf_pred_train = result_rf.predict(X_train_processed)"
   ]
  },
  {
   "cell_type": "code",
   "execution_count": 40,
   "metadata": {},
   "outputs": [
    {
     "data": {
      "text/plain": [
       "0.9271958045039884"
      ]
     },
     "execution_count": 40,
     "metadata": {},
     "output_type": "execute_result"
    }
   ],
   "source": [
    "accuracy_score(rf_pred_train, y_train)"
   ]
  },
  {
   "cell_type": "code",
   "execution_count": 41,
   "metadata": {},
   "outputs": [
    {
     "data": {
      "text/plain": [
       "0.92719794344473"
      ]
     },
     "execution_count": 41,
     "metadata": {},
     "output_type": "execute_result"
    }
   ],
   "source": [
    "accuracy_score(result_rf.predict(X_test_processed), y_test)\n",
    "\n",
    "# The accuracy of the random forest optimised with gridsearch is slightly lower than the accuracy of a random forest with default values (92.7% vs 93.4%). \n",
    "# But the random forest with gridsearch is not overfitted to the train data and the results on the train data and test data are almost the same.\n",
    "# This means the random forest with gridsearch has found a more generalised rule for its predictions because the found rule performs almost the same with the train data\n",
    "# and the unknown test data. Therefore the random forest with the more generalised approach is more suited for predicting future loans because the more generalised rule \n",
    "# is more likely to be robust to future loans with a different range of values than the loans in the dataset.   "
   ]
  },
  {
   "cell_type": "markdown",
   "metadata": {},
   "source": [
    "# 3 Applying a different strategy for filling in NaNs\n",
    "<br>\n",
    "There are a lot of possible strategies on how to fill in NaNs. <br>Because of the arguments mentioned in the first part, filling in NaNs in \"person_emp_lenght\" with 0 seems reasonable. Compared to this, filling in NaNs in \"loan_int_rate\" with the average interest rate of the corresponding \"loan_grade\" seems at least more arbitrary, so we are going to apply a different strategy of filling in those NaNs. Our strategy of choice is going to be the median of all the loans, to fill the NaNs with a value that is significantly different from our first approach. "
   ]
  },
  {
   "cell_type": "markdown",
   "metadata": {},
   "source": [
    "3.1 Applying a median strategy"
   ]
  },
  {
   "cell_type": "code",
   "execution_count": 42,
   "metadata": {},
   "outputs": [],
   "source": [
    "import pandas as pd\n",
    "\n",
    "raw_df = pd.read_csv(\"https://github.com/TomMarq1/Credit_default_prediction_-ML-model-/raw/main/credit_risk_dataset.csv\")\n",
    "raw_df.drop_duplicates(inplace=True)\n",
    "cleaned_df = raw_df.copy()\n",
    "cleaned_df[\"person_emp_length\"].fillna(0, inplace = True)"
   ]
  },
  {
   "cell_type": "code",
   "execution_count": 43,
   "metadata": {},
   "outputs": [],
   "source": [
    "# filling NaNs in \"loan_grade\" with the median of all loans\n",
    "cleaned_df[\"loan_int_rate\"].fillna(cleaned_df[\"loan_int_rate\"].median(), inplace= True)\n"
   ]
  },
  {
   "cell_type": "code",
   "execution_count": 44,
   "metadata": {},
   "outputs": [],
   "source": [
    "X = cleaned_df.drop(columns=[\"loan_status\"])\n",
    "y = cleaned_df[\"loan_status\"]"
   ]
  },
  {
   "cell_type": "code",
   "execution_count": 45,
   "metadata": {},
   "outputs": [],
   "source": [
    "from sklearn.model_selection import train_test_split\n",
    "\n",
    "X_train, X_test, y_train, y_test = train_test_split(X, y, test_size=0.3, random_state=8)"
   ]
  },
  {
   "cell_type": "code",
   "execution_count": 46,
   "metadata": {},
   "outputs": [],
   "source": [
    "num_col = X_train.select_dtypes(\"number\").columns.to_list()"
   ]
  },
  {
   "cell_type": "code",
   "execution_count": 47,
   "metadata": {},
   "outputs": [],
   "source": [
    "from sklearn.preprocessing import StandardScaler\n",
    "\n",
    "sc = StandardScaler()\n",
    "X_train_num_col_scaled = sc.fit_transform(X_train[num_col])\n",
    "X_test_num_col_scaled = sc.transform(X_test[num_col])\n"
   ]
  },
  {
   "cell_type": "code",
   "execution_count": 48,
   "metadata": {},
   "outputs": [],
   "source": [
    "cat_col = X_train.select_dtypes(\"object\").columns.to_list()"
   ]
  },
  {
   "cell_type": "code",
   "execution_count": 49,
   "metadata": {},
   "outputs": [],
   "source": [
    "non_ord_category_col = [cat_col[1]]"
   ]
  },
  {
   "cell_type": "code",
   "execution_count": 50,
   "metadata": {},
   "outputs": [],
   "source": [
    "from sklearn.preprocessing import OneHotEncoder\n",
    "\n",
    "ohenc = OneHotEncoder(sparse=False)\n",
    "X_train_non_ord_cat_col_enc = ohenc.fit_transform(X_train[non_ord_category_col])\n",
    "X_test_non_ord_cat_col_enc = ohenc.transform(X_test[non_ord_category_col])"
   ]
  },
  {
   "cell_type": "code",
   "execution_count": 51,
   "metadata": {},
   "outputs": [
    {
     "data": {
      "text/plain": [
       "['cb_person_default_on_file', 'person_home_ownership', 'loan_grade']"
      ]
     },
     "execution_count": 51,
     "metadata": {},
     "output_type": "execute_result"
    }
   ],
   "source": [
    "ord_category_col = list((set(X_train.columns.to_list()) - set(num_col) - set(non_ord_category_col)))\n",
    "ord_category_col\n",
    "\n",
    "# for unkown reasons the order of the items in ord_category_col change every time the notebook is run. \n",
    "# This can lead to an error 2 cells below. \n",
    "# To resolve the error rearrange the item order in cats_ord in cell below according to the item order \n",
    "# of ord_category_col in this cell"
   ]
  },
  {
   "cell_type": "code",
   "execution_count": 54,
   "metadata": {},
   "outputs": [],
   "source": [
    "from sklearn.preprocessing import OrdinalEncoder\n",
    "\n",
    "cb_person_default_on_file_cats = [\"Y\", \"N\"]\n",
    "loan_grade_cats =[\"G\", \"F\", \"E\", \"D\", \"C\", \"B\", \"A\"]\n",
    "person_home_ownership_cats = [\"OTHER\", \"RENT\", \"MORTGAGE\", \"OWN\"]\n",
    "\n",
    "cats_ord = [cb_person_default_on_file_cats, person_home_ownership_cats, loan_grade_cats]"
   ]
  },
  {
   "cell_type": "code",
   "execution_count": 55,
   "metadata": {},
   "outputs": [],
   "source": [
    "ord_enc = OrdinalEncoder(categories= cats_ord)\n",
    "X_train_ord_cat_enc = ord_enc.fit_transform(X_train[ord_category_col])\n",
    "X_test_ord_cat_enc = ord_enc.transform(X_test[ord_category_col])\n",
    "## if an error occurs executing this cell, look at the comment in the cell 2 above to resolve the problem"
   ]
  },
  {
   "cell_type": "code",
   "execution_count": 56,
   "metadata": {},
   "outputs": [],
   "source": [
    "X_train_processed = pd.concat([pd.DataFrame(X_train_num_col_scaled, #dataframe with scaled numerical columns\n",
    "                               columns = num_col),\n",
    "                               pd.DataFrame(X_train_non_ord_cat_col_enc, #dataframe with encoded non ordinal categorical columns\n",
    "                               columns = ohenc.get_feature_names_out()),\n",
    "                               pd.DataFrame(X_train_ord_cat_enc, # dataframe with encoded ordinal categorical columns\n",
    "                               columns = ord_category_col) \n",
    "\n",
    "                               \n",
    "                               ], axis=1)"
   ]
  },
  {
   "cell_type": "code",
   "execution_count": 57,
   "metadata": {},
   "outputs": [],
   "source": [
    "X_test_processed = pd.concat([pd.DataFrame(X_test_num_col_scaled, #dataframe with scaled numerical columns\n",
    "                               columns = num_col),\n",
    "                               pd.DataFrame(X_test_non_ord_cat_col_enc, #dataframe with encoded non ordinal categorical columns\n",
    "                               columns = ohenc.get_feature_names_out()),\n",
    "                               pd.DataFrame(X_test_ord_cat_enc, # dataframe with encoded ordinal categorical columns\n",
    "                               columns = ord_category_col) \n",
    "\n",
    "                               \n",
    "                               ], axis=1)"
   ]
  },
  {
   "cell_type": "code",
   "execution_count": 66,
   "metadata": {},
   "outputs": [],
   "source": [
    "# To compare if our model performance is better with this strategy for filling in NaNs, we train the random forest with the exact hyperparameters found in the gridsearch above. \n",
    "from sklearn.ensemble import RandomForestClassifier\n",
    "from sklearn.metrics import accuracy_score\n",
    "median_random_forest = RandomForestClassifier(random_state = 42, max_depth= 10, min_samples_leaf= 50, min_samples_split= 50, n_estimators= 100)"
   ]
  },
  {
   "cell_type": "code",
   "execution_count": 67,
   "metadata": {},
   "outputs": [
    {
     "data": {
      "text/html": [
       "<style>#sk-container-id-3 {color: black;background-color: white;}#sk-container-id-3 pre{padding: 0;}#sk-container-id-3 div.sk-toggleable {background-color: white;}#sk-container-id-3 label.sk-toggleable__label {cursor: pointer;display: block;width: 100%;margin-bottom: 0;padding: 0.3em;box-sizing: border-box;text-align: center;}#sk-container-id-3 label.sk-toggleable__label-arrow:before {content: \"▸\";float: left;margin-right: 0.25em;color: #696969;}#sk-container-id-3 label.sk-toggleable__label-arrow:hover:before {color: black;}#sk-container-id-3 div.sk-estimator:hover label.sk-toggleable__label-arrow:before {color: black;}#sk-container-id-3 div.sk-toggleable__content {max-height: 0;max-width: 0;overflow: hidden;text-align: left;background-color: #f0f8ff;}#sk-container-id-3 div.sk-toggleable__content pre {margin: 0.2em;color: black;border-radius: 0.25em;background-color: #f0f8ff;}#sk-container-id-3 input.sk-toggleable__control:checked~div.sk-toggleable__content {max-height: 200px;max-width: 100%;overflow: auto;}#sk-container-id-3 input.sk-toggleable__control:checked~label.sk-toggleable__label-arrow:before {content: \"▾\";}#sk-container-id-3 div.sk-estimator input.sk-toggleable__control:checked~label.sk-toggleable__label {background-color: #d4ebff;}#sk-container-id-3 div.sk-label input.sk-toggleable__control:checked~label.sk-toggleable__label {background-color: #d4ebff;}#sk-container-id-3 input.sk-hidden--visually {border: 0;clip: rect(1px 1px 1px 1px);clip: rect(1px, 1px, 1px, 1px);height: 1px;margin: -1px;overflow: hidden;padding: 0;position: absolute;width: 1px;}#sk-container-id-3 div.sk-estimator {font-family: monospace;background-color: #f0f8ff;border: 1px dotted black;border-radius: 0.25em;box-sizing: border-box;margin-bottom: 0.5em;}#sk-container-id-3 div.sk-estimator:hover {background-color: #d4ebff;}#sk-container-id-3 div.sk-parallel-item::after {content: \"\";width: 100%;border-bottom: 1px solid gray;flex-grow: 1;}#sk-container-id-3 div.sk-label:hover label.sk-toggleable__label {background-color: #d4ebff;}#sk-container-id-3 div.sk-serial::before {content: \"\";position: absolute;border-left: 1px solid gray;box-sizing: border-box;top: 0;bottom: 0;left: 50%;z-index: 0;}#sk-container-id-3 div.sk-serial {display: flex;flex-direction: column;align-items: center;background-color: white;padding-right: 0.2em;padding-left: 0.2em;position: relative;}#sk-container-id-3 div.sk-item {position: relative;z-index: 1;}#sk-container-id-3 div.sk-parallel {display: flex;align-items: stretch;justify-content: center;background-color: white;position: relative;}#sk-container-id-3 div.sk-item::before, #sk-container-id-3 div.sk-parallel-item::before {content: \"\";position: absolute;border-left: 1px solid gray;box-sizing: border-box;top: 0;bottom: 0;left: 50%;z-index: -1;}#sk-container-id-3 div.sk-parallel-item {display: flex;flex-direction: column;z-index: 1;position: relative;background-color: white;}#sk-container-id-3 div.sk-parallel-item:first-child::after {align-self: flex-end;width: 50%;}#sk-container-id-3 div.sk-parallel-item:last-child::after {align-self: flex-start;width: 50%;}#sk-container-id-3 div.sk-parallel-item:only-child::after {width: 0;}#sk-container-id-3 div.sk-dashed-wrapped {border: 1px dashed gray;margin: 0 0.4em 0.5em 0.4em;box-sizing: border-box;padding-bottom: 0.4em;background-color: white;}#sk-container-id-3 div.sk-label label {font-family: monospace;font-weight: bold;display: inline-block;line-height: 1.2em;}#sk-container-id-3 div.sk-label-container {text-align: center;}#sk-container-id-3 div.sk-container {/* jupyter's `normalize.less` sets `[hidden] { display: none; }` but bootstrap.min.css set `[hidden] { display: none !important; }` so we also need the `!important` here to be able to override the default hidden behavior on the sphinx rendered scikit-learn.org. See: https://github.com/scikit-learn/scikit-learn/issues/21755 */display: inline-block !important;position: relative;}#sk-container-id-3 div.sk-text-repr-fallback {display: none;}</style><div id=\"sk-container-id-3\" class=\"sk-top-container\"><div class=\"sk-text-repr-fallback\"><pre>RandomForestClassifier(max_depth=10, min_samples_leaf=50, min_samples_split=50,\n",
       "                       random_state=42)</pre><b>In a Jupyter environment, please rerun this cell to show the HTML representation or trust the notebook. <br />On GitHub, the HTML representation is unable to render, please try loading this page with nbviewer.org.</b></div><div class=\"sk-container\" hidden><div class=\"sk-item\"><div class=\"sk-estimator sk-toggleable\"><input class=\"sk-toggleable__control sk-hidden--visually\" id=\"sk-estimator-id-3\" type=\"checkbox\" checked><label for=\"sk-estimator-id-3\" class=\"sk-toggleable__label sk-toggleable__label-arrow\">RandomForestClassifier</label><div class=\"sk-toggleable__content\"><pre>RandomForestClassifier(max_depth=10, min_samples_leaf=50, min_samples_split=50,\n",
       "                       random_state=42)</pre></div></div></div></div></div>"
      ],
      "text/plain": [
       "RandomForestClassifier(max_depth=10, min_samples_leaf=50, min_samples_split=50,\n",
       "                       random_state=42)"
      ]
     },
     "execution_count": 67,
     "metadata": {},
     "output_type": "execute_result"
    }
   ],
   "source": [
    "median_random_forest.fit(X_train_processed, y_train)"
   ]
  },
  {
   "cell_type": "code",
   "execution_count": 68,
   "metadata": {},
   "outputs": [
    {
     "data": {
      "text/plain": [
       "0.9271958045039884"
      ]
     },
     "execution_count": 68,
     "metadata": {},
     "output_type": "execute_result"
    }
   ],
   "source": [
    "accuracy_score(median_random_forest.predict(X_train_processed), y_train)"
   ]
  },
  {
   "cell_type": "code",
   "execution_count": 69,
   "metadata": {},
   "outputs": [
    {
     "data": {
      "text/plain": [
       "0.9278149100257069"
      ]
     },
     "execution_count": 69,
     "metadata": {},
     "output_type": "execute_result"
    }
   ],
   "source": [
    "accuracy_score(median_random_forest.predict(X_test_processed), y_test)"
   ]
  },
  {
   "cell_type": "markdown",
   "metadata": {},
   "source": [
    "3.2 Outcome\n",
    "The simple median strategy surprisingly performed almost identical on the test data with an accuracy of 92.78% compared to the 92.76% with the previous strategy. Because of this we are going to stick with the median strategy because it is a more simple strategy."
   ]
  },
  {
   "cell_type": "markdown",
   "metadata": {},
   "source": [
    "# 4. Rebalancing the dataset\n",
    "<br>\n",
    "As we have already explored, about 21.8% of the loans are defaults. This means our dataset is imbalanced regarding the amount of non default loans compared to the defaults. There are almost 5 times more non default loans in the dataset as default loans. This imbalance is not caused by biased sampling or measurment errors but is a problem of the domain: If 50% of loans default, a bank would not stay in business for long...\n",
    "<br>\n",
    "The minority class, in our case default, is harder to predict because there are fewer examples of this class, by definition. This means it is more challenging for a model to learn the characteristics of examples from this class, and to differentiate examples from this class from the majority class (or classes). But this is not automatically the case. Whether the dataset contained enough instances of the minority class to learn to differentiate from the majority class can only be found out by testing which is what we are going to do in the following. \n"
   ]
  },
  {
   "cell_type": "markdown",
   "metadata": {},
   "source": [
    "4.1 Oversampling\n",
    "<br>\n",
    "Oversampling is a technique which increases the number of samples of the minority class up to the size of the majority class. This is done by generating synthetic samples. Different techniques can be applied to oversample a class. Here we will use RandomOverSampler."
   ]
  },
  {
   "cell_type": "code",
   "execution_count": null,
   "metadata": {},
   "outputs": [],
   "source": [
    "#!pip install imblearn\n"
   ]
  },
  {
   "cell_type": "code",
   "execution_count": 62,
   "metadata": {},
   "outputs": [],
   "source": [
    "from imblearn.over_sampling import RandomOverSampler\n"
   ]
  },
  {
   "cell_type": "code",
   "execution_count": 71,
   "metadata": {},
   "outputs": [],
   "source": [
    "over_sampler = RandomOverSampler(random_state=42)\n",
    "X_res, y_res = over_sampler.fit_resample(X_train_processed, y_train)"
   ]
  },
  {
   "cell_type": "code",
   "execution_count": 78,
   "metadata": {},
   "outputs": [
    {
     "data": {
      "text/html": [
       "<style>#sk-container-id-6 {color: black;background-color: white;}#sk-container-id-6 pre{padding: 0;}#sk-container-id-6 div.sk-toggleable {background-color: white;}#sk-container-id-6 label.sk-toggleable__label {cursor: pointer;display: block;width: 100%;margin-bottom: 0;padding: 0.3em;box-sizing: border-box;text-align: center;}#sk-container-id-6 label.sk-toggleable__label-arrow:before {content: \"▸\";float: left;margin-right: 0.25em;color: #696969;}#sk-container-id-6 label.sk-toggleable__label-arrow:hover:before {color: black;}#sk-container-id-6 div.sk-estimator:hover label.sk-toggleable__label-arrow:before {color: black;}#sk-container-id-6 div.sk-toggleable__content {max-height: 0;max-width: 0;overflow: hidden;text-align: left;background-color: #f0f8ff;}#sk-container-id-6 div.sk-toggleable__content pre {margin: 0.2em;color: black;border-radius: 0.25em;background-color: #f0f8ff;}#sk-container-id-6 input.sk-toggleable__control:checked~div.sk-toggleable__content {max-height: 200px;max-width: 100%;overflow: auto;}#sk-container-id-6 input.sk-toggleable__control:checked~label.sk-toggleable__label-arrow:before {content: \"▾\";}#sk-container-id-6 div.sk-estimator input.sk-toggleable__control:checked~label.sk-toggleable__label {background-color: #d4ebff;}#sk-container-id-6 div.sk-label input.sk-toggleable__control:checked~label.sk-toggleable__label {background-color: #d4ebff;}#sk-container-id-6 input.sk-hidden--visually {border: 0;clip: rect(1px 1px 1px 1px);clip: rect(1px, 1px, 1px, 1px);height: 1px;margin: -1px;overflow: hidden;padding: 0;position: absolute;width: 1px;}#sk-container-id-6 div.sk-estimator {font-family: monospace;background-color: #f0f8ff;border: 1px dotted black;border-radius: 0.25em;box-sizing: border-box;margin-bottom: 0.5em;}#sk-container-id-6 div.sk-estimator:hover {background-color: #d4ebff;}#sk-container-id-6 div.sk-parallel-item::after {content: \"\";width: 100%;border-bottom: 1px solid gray;flex-grow: 1;}#sk-container-id-6 div.sk-label:hover label.sk-toggleable__label {background-color: #d4ebff;}#sk-container-id-6 div.sk-serial::before {content: \"\";position: absolute;border-left: 1px solid gray;box-sizing: border-box;top: 0;bottom: 0;left: 50%;z-index: 0;}#sk-container-id-6 div.sk-serial {display: flex;flex-direction: column;align-items: center;background-color: white;padding-right: 0.2em;padding-left: 0.2em;position: relative;}#sk-container-id-6 div.sk-item {position: relative;z-index: 1;}#sk-container-id-6 div.sk-parallel {display: flex;align-items: stretch;justify-content: center;background-color: white;position: relative;}#sk-container-id-6 div.sk-item::before, #sk-container-id-6 div.sk-parallel-item::before {content: \"\";position: absolute;border-left: 1px solid gray;box-sizing: border-box;top: 0;bottom: 0;left: 50%;z-index: -1;}#sk-container-id-6 div.sk-parallel-item {display: flex;flex-direction: column;z-index: 1;position: relative;background-color: white;}#sk-container-id-6 div.sk-parallel-item:first-child::after {align-self: flex-end;width: 50%;}#sk-container-id-6 div.sk-parallel-item:last-child::after {align-self: flex-start;width: 50%;}#sk-container-id-6 div.sk-parallel-item:only-child::after {width: 0;}#sk-container-id-6 div.sk-dashed-wrapped {border: 1px dashed gray;margin: 0 0.4em 0.5em 0.4em;box-sizing: border-box;padding-bottom: 0.4em;background-color: white;}#sk-container-id-6 div.sk-label label {font-family: monospace;font-weight: bold;display: inline-block;line-height: 1.2em;}#sk-container-id-6 div.sk-label-container {text-align: center;}#sk-container-id-6 div.sk-container {/* jupyter's `normalize.less` sets `[hidden] { display: none; }` but bootstrap.min.css set `[hidden] { display: none !important; }` so we also need the `!important` here to be able to override the default hidden behavior on the sphinx rendered scikit-learn.org. See: https://github.com/scikit-learn/scikit-learn/issues/21755 */display: inline-block !important;position: relative;}#sk-container-id-6 div.sk-text-repr-fallback {display: none;}</style><div id=\"sk-container-id-6\" class=\"sk-top-container\"><div class=\"sk-text-repr-fallback\"><pre>RandomForestClassifier(max_depth=10, min_samples_leaf=50, min_samples_split=50,\n",
       "                       random_state=42)</pre><b>In a Jupyter environment, please rerun this cell to show the HTML representation or trust the notebook. <br />On GitHub, the HTML representation is unable to render, please try loading this page with nbviewer.org.</b></div><div class=\"sk-container\" hidden><div class=\"sk-item\"><div class=\"sk-estimator sk-toggleable\"><input class=\"sk-toggleable__control sk-hidden--visually\" id=\"sk-estimator-id-6\" type=\"checkbox\" checked><label for=\"sk-estimator-id-6\" class=\"sk-toggleable__label sk-toggleable__label-arrow\">RandomForestClassifier</label><div class=\"sk-toggleable__content\"><pre>RandomForestClassifier(max_depth=10, min_samples_leaf=50, min_samples_split=50,\n",
       "                       random_state=42)</pre></div></div></div></div></div>"
      ],
      "text/plain": [
       "RandomForestClassifier(max_depth=10, min_samples_leaf=50, min_samples_split=50,\n",
       "                       random_state=42)"
      ]
     },
     "execution_count": 78,
     "metadata": {},
     "output_type": "execute_result"
    }
   ],
   "source": [
    "rf = RandomForestClassifier(max_depth=10, min_samples_leaf=50, min_samples_split=50, n_estimators=100, random_state=42)\n",
    "rf.fit(X_res, y_res)"
   ]
  },
  {
   "cell_type": "code",
   "execution_count": 79,
   "metadata": {},
   "outputs": [
    {
     "data": {
      "text/plain": [
       "0.8592381167693438"
      ]
     },
     "execution_count": 79,
     "metadata": {},
     "output_type": "execute_result"
    }
   ],
   "source": [
    "accuracy_score(rf.predict(X_res), y_res)"
   ]
  },
  {
   "cell_type": "code",
   "execution_count": 80,
   "metadata": {},
   "outputs": [
    {
     "data": {
      "text/plain": [
       "0.8940874035989718"
      ]
     },
     "execution_count": 80,
     "metadata": {},
     "output_type": "execute_result"
    }
   ],
   "source": [
    "accuracy_score(rf.predict(X_test_processed), y_test)\n",
    "# Random forest trained on dataset that was rebalanced by oversampling performed distinctly worse then on the original datase."
   ]
  },
  {
   "cell_type": "markdown",
   "metadata": {},
   "source": [
    "4.2 Undersampling\n",
    "<br>\n",
    "Undersampling is a technique which decreases the number of samples of the majority class down to the size of the minority class. This is done by removing some samples from the majority class. Different techniques can be applied to undersample a class. Here we will use RandomUnderSampler."
   ]
  },
  {
   "cell_type": "code",
   "execution_count": 83,
   "metadata": {},
   "outputs": [],
   "source": [
    "from imblearn.under_sampling import RandomUnderSampler\n",
    "under_sampler = RandomUnderSampler(random_state=42)\n",
    "X_res, y_res = under_sampler.fit_resample(X_train_processed, y_train)"
   ]
  },
  {
   "cell_type": "code",
   "execution_count": 84,
   "metadata": {},
   "outputs": [
    {
     "data": {
      "text/html": [
       "<style>#sk-container-id-7 {color: black;background-color: white;}#sk-container-id-7 pre{padding: 0;}#sk-container-id-7 div.sk-toggleable {background-color: white;}#sk-container-id-7 label.sk-toggleable__label {cursor: pointer;display: block;width: 100%;margin-bottom: 0;padding: 0.3em;box-sizing: border-box;text-align: center;}#sk-container-id-7 label.sk-toggleable__label-arrow:before {content: \"▸\";float: left;margin-right: 0.25em;color: #696969;}#sk-container-id-7 label.sk-toggleable__label-arrow:hover:before {color: black;}#sk-container-id-7 div.sk-estimator:hover label.sk-toggleable__label-arrow:before {color: black;}#sk-container-id-7 div.sk-toggleable__content {max-height: 0;max-width: 0;overflow: hidden;text-align: left;background-color: #f0f8ff;}#sk-container-id-7 div.sk-toggleable__content pre {margin: 0.2em;color: black;border-radius: 0.25em;background-color: #f0f8ff;}#sk-container-id-7 input.sk-toggleable__control:checked~div.sk-toggleable__content {max-height: 200px;max-width: 100%;overflow: auto;}#sk-container-id-7 input.sk-toggleable__control:checked~label.sk-toggleable__label-arrow:before {content: \"▾\";}#sk-container-id-7 div.sk-estimator input.sk-toggleable__control:checked~label.sk-toggleable__label {background-color: #d4ebff;}#sk-container-id-7 div.sk-label input.sk-toggleable__control:checked~label.sk-toggleable__label {background-color: #d4ebff;}#sk-container-id-7 input.sk-hidden--visually {border: 0;clip: rect(1px 1px 1px 1px);clip: rect(1px, 1px, 1px, 1px);height: 1px;margin: -1px;overflow: hidden;padding: 0;position: absolute;width: 1px;}#sk-container-id-7 div.sk-estimator {font-family: monospace;background-color: #f0f8ff;border: 1px dotted black;border-radius: 0.25em;box-sizing: border-box;margin-bottom: 0.5em;}#sk-container-id-7 div.sk-estimator:hover {background-color: #d4ebff;}#sk-container-id-7 div.sk-parallel-item::after {content: \"\";width: 100%;border-bottom: 1px solid gray;flex-grow: 1;}#sk-container-id-7 div.sk-label:hover label.sk-toggleable__label {background-color: #d4ebff;}#sk-container-id-7 div.sk-serial::before {content: \"\";position: absolute;border-left: 1px solid gray;box-sizing: border-box;top: 0;bottom: 0;left: 50%;z-index: 0;}#sk-container-id-7 div.sk-serial {display: flex;flex-direction: column;align-items: center;background-color: white;padding-right: 0.2em;padding-left: 0.2em;position: relative;}#sk-container-id-7 div.sk-item {position: relative;z-index: 1;}#sk-container-id-7 div.sk-parallel {display: flex;align-items: stretch;justify-content: center;background-color: white;position: relative;}#sk-container-id-7 div.sk-item::before, #sk-container-id-7 div.sk-parallel-item::before {content: \"\";position: absolute;border-left: 1px solid gray;box-sizing: border-box;top: 0;bottom: 0;left: 50%;z-index: -1;}#sk-container-id-7 div.sk-parallel-item {display: flex;flex-direction: column;z-index: 1;position: relative;background-color: white;}#sk-container-id-7 div.sk-parallel-item:first-child::after {align-self: flex-end;width: 50%;}#sk-container-id-7 div.sk-parallel-item:last-child::after {align-self: flex-start;width: 50%;}#sk-container-id-7 div.sk-parallel-item:only-child::after {width: 0;}#sk-container-id-7 div.sk-dashed-wrapped {border: 1px dashed gray;margin: 0 0.4em 0.5em 0.4em;box-sizing: border-box;padding-bottom: 0.4em;background-color: white;}#sk-container-id-7 div.sk-label label {font-family: monospace;font-weight: bold;display: inline-block;line-height: 1.2em;}#sk-container-id-7 div.sk-label-container {text-align: center;}#sk-container-id-7 div.sk-container {/* jupyter's `normalize.less` sets `[hidden] { display: none; }` but bootstrap.min.css set `[hidden] { display: none !important; }` so we also need the `!important` here to be able to override the default hidden behavior on the sphinx rendered scikit-learn.org. See: https://github.com/scikit-learn/scikit-learn/issues/21755 */display: inline-block !important;position: relative;}#sk-container-id-7 div.sk-text-repr-fallback {display: none;}</style><div id=\"sk-container-id-7\" class=\"sk-top-container\"><div class=\"sk-text-repr-fallback\"><pre>RandomForestClassifier(max_depth=10, min_samples_leaf=50, min_samples_split=50,\n",
       "                       random_state=42)</pre><b>In a Jupyter environment, please rerun this cell to show the HTML representation or trust the notebook. <br />On GitHub, the HTML representation is unable to render, please try loading this page with nbviewer.org.</b></div><div class=\"sk-container\" hidden><div class=\"sk-item\"><div class=\"sk-estimator sk-toggleable\"><input class=\"sk-toggleable__control sk-hidden--visually\" id=\"sk-estimator-id-7\" type=\"checkbox\" checked><label for=\"sk-estimator-id-7\" class=\"sk-toggleable__label sk-toggleable__label-arrow\">RandomForestClassifier</label><div class=\"sk-toggleable__content\"><pre>RandomForestClassifier(max_depth=10, min_samples_leaf=50, min_samples_split=50,\n",
       "                       random_state=42)</pre></div></div></div></div></div>"
      ],
      "text/plain": [
       "RandomForestClassifier(max_depth=10, min_samples_leaf=50, min_samples_split=50,\n",
       "                       random_state=42)"
      ]
     },
     "execution_count": 84,
     "metadata": {},
     "output_type": "execute_result"
    }
   ],
   "source": [
    "rf = RandomForestClassifier(max_depth=10, min_samples_leaf=50, min_samples_split=50, n_estimators=100, random_state=42)\n",
    "rf.fit(X_res, y_res)"
   ]
  },
  {
   "cell_type": "code",
   "execution_count": 85,
   "metadata": {},
   "outputs": [
    {
     "data": {
      "text/plain": [
       "0.8410364145658263"
      ]
     },
     "execution_count": 85,
     "metadata": {},
     "output_type": "execute_result"
    }
   ],
   "source": [
    "accuracy_score(rf.predict(X_res), y_res)"
   ]
  },
  {
   "cell_type": "code",
   "execution_count": 86,
   "metadata": {},
   "outputs": [
    {
     "data": {
      "text/plain": [
       "0.8610796915167095"
      ]
     },
     "execution_count": 86,
     "metadata": {},
     "output_type": "execute_result"
    }
   ],
   "source": [
    "accuracy_score(rf.predict(X_test_processed), y_test)\n",
    "#The model also performed worse on a dataset that was undersampled "
   ]
  },
  {
   "cell_type": "markdown",
   "metadata": {},
   "source": [
    "4.3 Outcome\n",
    "<br>\n",
    "Rebalancing the dataset could not improve the performance of the random forest, so we stick with the original dataset even though it´s an imbalanced one."
   ]
  },
  {
   "cell_type": "markdown",
   "metadata": {},
   "source": [
    "# 5. Error exploration"
   ]
  },
  {
   "cell_type": "markdown",
   "metadata": {},
   "source": [
    "5.1 Overview <br>\n",
    "To get a first impression what the false predictions look like, we use a confusion matrix for an overview. <br>\n",
    "<br>\n",
    "From this matrix below we can see that in the train dataset 1542 loans were predicted as non default by the random forest even though they actually defaulted (false negative) and 104 loans were predicted as default but in reality they did not default (false positive). <br>\n",
    "<br>"
   ]
  },
  {
   "cell_type": "code",
   "execution_count": 87,
   "metadata": {},
   "outputs": [
    {
     "name": "stderr",
     "output_type": "stream",
     "text": [
      "c:\\Users\\gm-w\\anaconda3\\lib\\site-packages\\sklearn\\utils\\deprecation.py:87: FutureWarning: Function plot_confusion_matrix is deprecated; Function `plot_confusion_matrix` is deprecated in 1.0 and will be removed in 1.2. Use one of the class methods: ConfusionMatrixDisplay.from_predictions or ConfusionMatrixDisplay.from_estimator.\n",
      "  warnings.warn(msg, category=FutureWarning)\n"
     ]
    },
    {
     "data": {
      "text/plain": [
       "<sklearn.metrics._plot.confusion_matrix.ConfusionMatrixDisplay at 0x2a9690a0d00>"
      ]
     },
     "execution_count": 87,
     "metadata": {},
     "output_type": "execute_result"
    },
    {
     "data": {
      "image/png": "[encoded data removed]",
      "text/plain": [
       "<Figure size 432x288 with 2 Axes>"
      ]
     },
     "metadata": {
      "needs_background": "light"
     },
     "output_type": "display_data"
    }
   ],
   "source": [
    "# to get an overview let´s see how the false predictions look like\n",
    "from sklearn.metrics import plot_confusion_matrix\n",
    "\n",
    "plot_confusion_matrix(result_rf, X_train_processed, y_train)"
   ]
  },
  {
   "cell_type": "markdown",
   "metadata": {},
   "source": [
    "5.2 Exploring the incorrect predictions<br>\n",
    "<br>\n",
    "Now we are going to try to find out why these aforementioned loans were predicted incorrectly. To do so we are firstly going to attempt to consolidate the false predictions into groups with loans that have similar values. We do that because when all the loans in a group were predicted incorrectly and all of those loans have similar values, then it´s likely that these values are responsible for the wrong predictions.\n",
    "\n",
    "To achieve the consolidation of the false predictions into similar groups, we make use of a decision tree. We are going to take the loans with the false predictions only and train a decision tree with them. The decision tree will automatically form the false predictions into similar groups for us by forming it´s leaves. When we are examining this decision tree, we are thus less interested in the prediction this tree made but in the leaves it created because those represent groups of similar loans that were predicted incorrectly by the previous random forest.  \n",
    "\n",
    "\n"
   ]
  },
  {
   "cell_type": "code",
   "execution_count": 88,
   "metadata": {},
   "outputs": [
    {
     "data": {
      "text/html": [
       "<div>\n",
       "<style scoped>\n",
       "    .dataframe tbody tr th:only-of-type {\n",
       "        vertical-align: middle;\n",
       "    }\n",
       "\n",
       "    .dataframe tbody tr th {\n",
       "        vertical-align: top;\n",
       "    }\n",
       "\n",
       "    .dataframe thead th {\n",
       "        text-align: right;\n",
       "    }\n",
       "</style>\n",
       "<table border=\"1\" class=\"dataframe\">\n",
       "  <thead>\n",
       "    <tr style=\"text-align: right;\">\n",
       "      <th></th>\n",
       "      <th>person_age</th>\n",
       "      <th>person_income</th>\n",
       "      <th>person_emp_length</th>\n",
       "      <th>loan_amnt</th>\n",
       "      <th>loan_int_rate</th>\n",
       "      <th>loan_percent_income</th>\n",
       "      <th>cb_person_cred_hist_length</th>\n",
       "      <th>loan_intent_DEBTCONSOLIDATION</th>\n",
       "      <th>loan_intent_EDUCATION</th>\n",
       "      <th>loan_intent_HOMEIMPROVEMENT</th>\n",
       "      <th>loan_intent_MEDICAL</th>\n",
       "      <th>loan_intent_PERSONAL</th>\n",
       "      <th>loan_intent_VENTURE</th>\n",
       "      <th>cb_person_default_on_file</th>\n",
       "      <th>person_home_ownership</th>\n",
       "      <th>loan_grade</th>\n",
       "      <th>rf_pred</th>\n",
       "      <th>true_outcome</th>\n",
       "    </tr>\n",
       "  </thead>\n",
       "  <tbody>\n",
       "    <tr>\n",
       "      <th>0</th>\n",
       "      <td>2.597058</td>\n",
       "      <td>-0.014781</td>\n",
       "      <td>2.696150</td>\n",
       "      <td>-1.202739</td>\n",
       "      <td>-1.004600</td>\n",
       "      <td>-1.319334</td>\n",
       "      <td>2.029945</td>\n",
       "      <td>0.0</td>\n",
       "      <td>0.0</td>\n",
       "      <td>0.0</td>\n",
       "      <td>1.0</td>\n",
       "      <td>0.0</td>\n",
       "      <td>0.0</td>\n",
       "      <td>1.0</td>\n",
       "      <td>1.0</td>\n",
       "      <td>6.0</td>\n",
       "      <td>0</td>\n",
       "      <td>0</td>\n",
       "    </tr>\n",
       "    <tr>\n",
       "      <th>1</th>\n",
       "      <td>-0.430591</td>\n",
       "      <td>-0.298444</td>\n",
       "      <td>-0.865631</td>\n",
       "      <td>0.065842</td>\n",
       "      <td>-1.201964</td>\n",
       "      <td>0.276065</td>\n",
       "      <td>-0.688305</td>\n",
       "      <td>0.0</td>\n",
       "      <td>0.0</td>\n",
       "      <td>0.0</td>\n",
       "      <td>0.0</td>\n",
       "      <td>0.0</td>\n",
       "      <td>1.0</td>\n",
       "      <td>1.0</td>\n",
       "      <td>3.0</td>\n",
       "      <td>6.0</td>\n",
       "      <td>0</td>\n",
       "      <td>0</td>\n",
       "    </tr>\n",
       "    <tr>\n",
       "      <th>2</th>\n",
       "      <td>0.047459</td>\n",
       "      <td>-0.278790</td>\n",
       "      <td>1.746342</td>\n",
       "      <td>-1.186882</td>\n",
       "      <td>0.415774</td>\n",
       "      <td>-1.225487</td>\n",
       "      <td>-0.194077</td>\n",
       "      <td>0.0</td>\n",
       "      <td>0.0</td>\n",
       "      <td>0.0</td>\n",
       "      <td>0.0</td>\n",
       "      <td>0.0</td>\n",
       "      <td>1.0</td>\n",
       "      <td>1.0</td>\n",
       "      <td>2.0</td>\n",
       "      <td>4.0</td>\n",
       "      <td>0</td>\n",
       "      <td>1</td>\n",
       "    </tr>\n",
       "    <tr>\n",
       "      <th>3</th>\n",
       "      <td>-0.749291</td>\n",
       "      <td>0.268958</td>\n",
       "      <td>-0.865631</td>\n",
       "      <td>0.224415</td>\n",
       "      <td>0.558135</td>\n",
       "      <td>-0.287017</td>\n",
       "      <td>-0.688305</td>\n",
       "      <td>0.0</td>\n",
       "      <td>0.0</td>\n",
       "      <td>0.0</td>\n",
       "      <td>0.0</td>\n",
       "      <td>1.0</td>\n",
       "      <td>0.0</td>\n",
       "      <td>1.0</td>\n",
       "      <td>2.0</td>\n",
       "      <td>4.0</td>\n",
       "      <td>0</td>\n",
       "      <td>0</td>\n",
       "    </tr>\n",
       "    <tr>\n",
       "      <th>4</th>\n",
       "      <td>-0.908641</td>\n",
       "      <td>1.232155</td>\n",
       "      <td>-1.103083</td>\n",
       "      <td>0.858706</td>\n",
       "      <td>-0.668111</td>\n",
       "      <td>-0.568558</td>\n",
       "      <td>-0.935418</td>\n",
       "      <td>0.0</td>\n",
       "      <td>0.0</td>\n",
       "      <td>0.0</td>\n",
       "      <td>0.0</td>\n",
       "      <td>0.0</td>\n",
       "      <td>1.0</td>\n",
       "      <td>1.0</td>\n",
       "      <td>2.0</td>\n",
       "      <td>6.0</td>\n",
       "      <td>0</td>\n",
       "      <td>0</td>\n",
       "    </tr>\n",
       "    <tr>\n",
       "      <th>...</th>\n",
       "      <td>...</td>\n",
       "      <td>...</td>\n",
       "      <td>...</td>\n",
       "      <td>...</td>\n",
       "      <td>...</td>\n",
       "      <td>...</td>\n",
       "      <td>...</td>\n",
       "      <td>...</td>\n",
       "      <td>...</td>\n",
       "      <td>...</td>\n",
       "      <td>...</td>\n",
       "      <td>...</td>\n",
       "      <td>...</td>\n",
       "      <td>...</td>\n",
       "      <td>...</td>\n",
       "      <td>...</td>\n",
       "      <td>...</td>\n",
       "      <td>...</td>\n",
       "    </tr>\n",
       "    <tr>\n",
       "      <th>22686</th>\n",
       "      <td>-0.749291</td>\n",
       "      <td>-0.279603</td>\n",
       "      <td>0.321629</td>\n",
       "      <td>0.620847</td>\n",
       "      <td>0.396361</td>\n",
       "      <td>0.839147</td>\n",
       "      <td>-0.935418</td>\n",
       "      <td>1.0</td>\n",
       "      <td>0.0</td>\n",
       "      <td>0.0</td>\n",
       "      <td>0.0</td>\n",
       "      <td>0.0</td>\n",
       "      <td>0.0</td>\n",
       "      <td>0.0</td>\n",
       "      <td>1.0</td>\n",
       "      <td>4.0</td>\n",
       "      <td>0</td>\n",
       "      <td>0</td>\n",
       "    </tr>\n",
       "    <tr>\n",
       "      <th>22687</th>\n",
       "      <td>-0.111891</td>\n",
       "      <td>1.082341</td>\n",
       "      <td>-1.103083</td>\n",
       "      <td>0.577239</td>\n",
       "      <td>1.651727</td>\n",
       "      <td>-0.568558</td>\n",
       "      <td>0.300150</td>\n",
       "      <td>0.0</td>\n",
       "      <td>0.0</td>\n",
       "      <td>0.0</td>\n",
       "      <td>0.0</td>\n",
       "      <td>0.0</td>\n",
       "      <td>1.0</td>\n",
       "      <td>0.0</td>\n",
       "      <td>2.0</td>\n",
       "      <td>4.0</td>\n",
       "      <td>0</td>\n",
       "      <td>0</td>\n",
       "    </tr>\n",
       "    <tr>\n",
       "      <th>22688</th>\n",
       "      <td>-0.111891</td>\n",
       "      <td>-0.790333</td>\n",
       "      <td>-0.865631</td>\n",
       "      <td>-0.568449</td>\n",
       "      <td>-0.004838</td>\n",
       "      <td>0.745300</td>\n",
       "      <td>0.300150</td>\n",
       "      <td>0.0</td>\n",
       "      <td>1.0</td>\n",
       "      <td>0.0</td>\n",
       "      <td>0.0</td>\n",
       "      <td>0.0</td>\n",
       "      <td>0.0</td>\n",
       "      <td>1.0</td>\n",
       "      <td>3.0</td>\n",
       "      <td>4.0</td>\n",
       "      <td>0</td>\n",
       "      <td>0</td>\n",
       "    </tr>\n",
       "    <tr>\n",
       "      <th>22689</th>\n",
       "      <td>0.206809</td>\n",
       "      <td>0.193294</td>\n",
       "      <td>-0.628179</td>\n",
       "      <td>0.541561</td>\n",
       "      <td>-0.244263</td>\n",
       "      <td>-0.005476</td>\n",
       "      <td>0.547263</td>\n",
       "      <td>0.0</td>\n",
       "      <td>0.0</td>\n",
       "      <td>0.0</td>\n",
       "      <td>0.0</td>\n",
       "      <td>0.0</td>\n",
       "      <td>1.0</td>\n",
       "      <td>1.0</td>\n",
       "      <td>1.0</td>\n",
       "      <td>5.0</td>\n",
       "      <td>0</td>\n",
       "      <td>0</td>\n",
       "    </tr>\n",
       "    <tr>\n",
       "      <th>22690</th>\n",
       "      <td>-0.749291</td>\n",
       "      <td>-0.468762</td>\n",
       "      <td>-0.153275</td>\n",
       "      <td>-0.330589</td>\n",
       "      <td>-0.095431</td>\n",
       "      <td>0.088371</td>\n",
       "      <td>-0.935418</td>\n",
       "      <td>0.0</td>\n",
       "      <td>0.0</td>\n",
       "      <td>0.0</td>\n",
       "      <td>1.0</td>\n",
       "      <td>0.0</td>\n",
       "      <td>0.0</td>\n",
       "      <td>1.0</td>\n",
       "      <td>2.0</td>\n",
       "      <td>5.0</td>\n",
       "      <td>0</td>\n",
       "      <td>0</td>\n",
       "    </tr>\n",
       "  </tbody>\n",
       "</table>\n",
       "<p>22691 rows × 18 columns</p>\n",
       "</div>"
      ],
      "text/plain": [
       "       person_age  person_income  person_emp_length  loan_amnt  loan_int_rate  \\\n",
       "0        2.597058      -0.014781           2.696150  -1.202739      -1.004600   \n",
       "1       -0.430591      -0.298444          -0.865631   0.065842      -1.201964   \n",
       "2        0.047459      -0.278790           1.746342  -1.186882       0.415774   \n",
       "3       -0.749291       0.268958          -0.865631   0.224415       0.558135   \n",
       "4       -0.908641       1.232155          -1.103083   0.858706      -0.668111   \n",
       "...           ...            ...                ...        ...            ...   \n",
       "22686   -0.749291      -0.279603           0.321629   0.620847       0.396361   \n",
       "22687   -0.111891       1.082341          -1.103083   0.577239       1.651727   \n",
       "22688   -0.111891      -0.790333          -0.865631  -0.568449      -0.004838   \n",
       "22689    0.206809       0.193294          -0.628179   0.541561      -0.244263   \n",
       "22690   -0.749291      -0.468762          -0.153275  -0.330589      -0.095431   \n",
       "\n",
       "       loan_percent_income  cb_person_cred_hist_length  \\\n",
       "0                -1.319334                    2.029945   \n",
       "1                 0.276065                   -0.688305   \n",
       "2                -1.225487                   -0.194077   \n",
       "3                -0.287017                   -0.688305   \n",
       "4                -0.568558                   -0.935418   \n",
       "...                    ...                         ...   \n",
       "22686             0.839147                   -0.935418   \n",
       "22687            -0.568558                    0.300150   \n",
       "22688             0.745300                    0.300150   \n",
       "22689            -0.005476                    0.547263   \n",
       "22690             0.088371                   -0.935418   \n",
       "\n",
       "       loan_intent_DEBTCONSOLIDATION  loan_intent_EDUCATION  \\\n",
       "0                                0.0                    0.0   \n",
       "1                                0.0                    0.0   \n",
       "2                                0.0                    0.0   \n",
       "3                                0.0                    0.0   \n",
       "4                                0.0                    0.0   \n",
       "...                              ...                    ...   \n",
       "22686                            1.0                    0.0   \n",
       "22687                            0.0                    0.0   \n",
       "22688                            0.0                    1.0   \n",
       "22689                            0.0                    0.0   \n",
       "22690                            0.0                    0.0   \n",
       "\n",
       "       loan_intent_HOMEIMPROVEMENT  loan_intent_MEDICAL  loan_intent_PERSONAL  \\\n",
       "0                              0.0                  1.0                   0.0   \n",
       "1                              0.0                  0.0                   0.0   \n",
       "2                              0.0                  0.0                   0.0   \n",
       "3                              0.0                  0.0                   1.0   \n",
       "4                              0.0                  0.0                   0.0   \n",
       "...                            ...                  ...                   ...   \n",
       "22686                          0.0                  0.0                   0.0   \n",
       "22687                          0.0                  0.0                   0.0   \n",
       "22688                          0.0                  0.0                   0.0   \n",
       "22689                          0.0                  0.0                   0.0   \n",
       "22690                          0.0                  1.0                   0.0   \n",
       "\n",
       "       loan_intent_VENTURE  cb_person_default_on_file  person_home_ownership  \\\n",
       "0                      0.0                        1.0                    1.0   \n",
       "1                      1.0                        1.0                    3.0   \n",
       "2                      1.0                        1.0                    2.0   \n",
       "3                      0.0                        1.0                    2.0   \n",
       "4                      1.0                        1.0                    2.0   \n",
       "...                    ...                        ...                    ...   \n",
       "22686                  0.0                        0.0                    1.0   \n",
       "22687                  1.0                        0.0                    2.0   \n",
       "22688                  0.0                        1.0                    3.0   \n",
       "22689                  1.0                        1.0                    1.0   \n",
       "22690                  0.0                        1.0                    2.0   \n",
       "\n",
       "       loan_grade  rf_pred  true_outcome  \n",
       "0             6.0        0             0  \n",
       "1             6.0        0             0  \n",
       "2             4.0        0             1  \n",
       "3             4.0        0             0  \n",
       "4             6.0        0             0  \n",
       "...           ...      ...           ...  \n",
       "22686         4.0        0             0  \n",
       "22687         4.0        0             0  \n",
       "22688         4.0        0             0  \n",
       "22689         5.0        0             0  \n",
       "22690         5.0        0             0  \n",
       "\n",
       "[22691 rows x 18 columns]"
      ]
     },
     "execution_count": 88,
     "metadata": {},
     "output_type": "execute_result"
    }
   ],
   "source": [
    "# getting the false negative\n",
    "# first create a copy of the train dataset, add the prediction of the random forest \n",
    "# and the true value for loan default to the train dataset\n",
    "X_train_analysis = X_train_processed.copy()\n",
    "\n",
    "X_train_analysis[\"rf_pred\"] = rf_pred_train\n",
    "X_train_analysis[\"true_outcome\"] = y_train.tolist()\n",
    "X_train_analysis"
   ]
  },
  {
   "cell_type": "code",
   "execution_count": 89,
   "metadata": {},
   "outputs": [
    {
     "data": {
      "text/plain": [
       "[Text(0.6666666666666666, 0.9166666666666666, 'person_home_ownership <= 2.5\\ngini = 0.122\\nsamples = 1652\\nvalue = [108, 1544]\\nclass = y[1]'),\n",
       " Text(0.5555555555555556, 0.75, 'loan_grade <= 3.5\\ngini = 0.064\\nsamples = 1594\\nvalue = [53, 1541]\\nclass = y[1]'),\n",
       " Text(0.3333333333333333, 0.5833333333333334, 'loan_intent_MEDICAL <= 0.5\\ngini = 0.294\\nsamples = 291\\nvalue = [52, 239]\\nclass = y[1]'),\n",
       " Text(0.2222222222222222, 0.4166666666666667, 'person_income <= -0.626\\ngini = 0.13\\nsamples = 257\\nvalue = [18, 239]\\nclass = y[1]'),\n",
       " Text(0.1111111111111111, 0.25, 'gini = 0.457\\nsamples = 34\\nvalue = [12, 22]\\nclass = y[1]'),\n",
       " Text(0.3333333333333333, 0.25, 'person_home_ownership <= 0.5\\ngini = 0.052\\nsamples = 223\\nvalue = [6, 217]\\nclass = y[1]'),\n",
       " Text(0.2222222222222222, 0.08333333333333333, 'gini = 0.375\\nsamples = 4\\nvalue = [3, 1]\\nclass = y[0]'),\n",
       " Text(0.4444444444444444, 0.08333333333333333, 'gini = 0.027\\nsamples = 219\\nvalue = [3, 216]\\nclass = y[1]'),\n",
       " Text(0.4444444444444444, 0.4166666666666667, 'gini = 0.0\\nsamples = 34\\nvalue = [34, 0]\\nclass = y[0]'),\n",
       " Text(0.7777777777777778, 0.5833333333333334, 'person_income <= -0.874\\ngini = 0.002\\nsamples = 1303\\nvalue = [1, 1302]\\nclass = y[1]'),\n",
       " Text(0.6666666666666666, 0.4166666666666667, 'gini = 0.064\\nsamples = 30\\nvalue = [1, 29]\\nclass = y[1]'),\n",
       " Text(0.8888888888888888, 0.4166666666666667, 'gini = 0.0\\nsamples = 1273\\nvalue = [0, 1273]\\nclass = y[1]'),\n",
       " Text(0.7777777777777778, 0.75, 'gini = 0.098\\nsamples = 58\\nvalue = [55, 3]\\nclass = y[0]')]"
      ]
     },
     "execution_count": 89,
     "metadata": {},
     "output_type": "execute_result"
    },
    {
     "data": {
      "image/png": "[encoded data removed]",
      "text/plain": [
       "<Figure size 864x576 with 1 Axes>"
      ]
     },
     "metadata": {
      "needs_background": "light"
     },
     "output_type": "display_data"
    }
   ],
   "source": [
    "from matplotlib import pyplot as plt\n",
    "from sklearn import tree as tr\n",
    "\n",
    "# assing a new column \"error\" which has the value \"True\" in each row that was predicted incorrectly.\n",
    "# Call the rows with \"True\" and store this dataframe only containing false predictions in a new variable. \n",
    "X_train_errors  = X_train_analysis.assign(error = lambda df_: df_['rf_pred'] != df_['true_outcome']).query('error')\n",
    "\n",
    "# drop the columns that were added beforehand\n",
    "X_train_errors.drop(columns=[\"rf_pred\", 'error'], inplace=True)\n",
    "\n",
    "# we want clusters large enough to work with, so we select corresponding hyperparameters to achieve this\n",
    "error_tree = DecisionTreeClassifier(max_depth= 5, min_samples_split = 200)\n",
    "\n",
    "# train and plot the tree\n",
    "error_tree.fit(X_train_errors.drop(columns=['true_outcome']), X_train_errors['true_outcome'])\n",
    "\n",
    "plt.figure(figsize=(12,8))\n",
    "tr.plot_tree(error_tree, feature_names= error_tree.feature_names_in_, class_names= True, filled= True, fontsize= 8)"
   ]
  },
  {
   "cell_type": "markdown",
   "metadata": {},
   "source": [
    "5.3 Analysing the errors<br>\n",
    "<br>\n",
    "As we can see the largest share of the incorrectly predicted loans are grouped into an entity of 1303 samples (we ignore the further split of this group because 1 leaf of the split has just 30 samples). <br>\n",
    "<br>\n",
    "This group with its 1303 samples represents 78,87% of all the 1652 false predictions.<br> All the loans of this group have in common that their value in \"person_home_ownership\" is equal to or below 2.5 and their value in \"loan_grade\" is above 3.5. This translates to borrowers that don´t own a home and have a loan grade of C or better (with A being the best). \n",
    "<br>\n",
    "<br>\n",
    "From this situation we can deduct 2 potential reasons for the false predictions <br>\n",
    "<br>\n",
    "The first reason is a more general one and appears every time NaN-values are filled before training a machine learning model. This is because every value used to fill in a NaN is basically a guess even though it might be a substantial one. That means there is always the threat of adding flawed information to the dataset when filling in NaNs which then can cause errors in the machine learning model later on. Thus there is a possibility that the way we filled in the NaNs is causing the prediction errors.\n",
    "<br> \n",
    "<br>\n",
    "The second potential reason for the false predictions could be that not we added flawed information to the dataset by filling in NaNs, but the original information already contained flawed information by itself in the first place.<br> \n",
    "Because all of the loans in the \"error\"-group have the values \"person_home_ownership <= 2.5\" and <br>\n",
    "\"loan_grade > 3.5\", it is likely that at least one of this values contains flawed information which leads to false results when this value is used for default prediction. Because of this we are going to have a closer look at those 2 values: <br>\n",
    "<br>\n",
    "The value \"person_home_ownership\" <= 2.5 doesn´t give any indications, why this value could contain any flawed information which causes errors when used for loan default predictions. The inner message of this value is clear because it´s just a description if the borrowers own a house or not. Additionally it´s accountable how this specific value comes into existence simply by just checking of the borrower owns a house or not.\n",
    "<br> \n",
    "<br>\n",
    "On the contrary the inner meaning of the value \"loan_grade > 3.5\" is not clear. The data description on kaggle \n",
    "doesn´t provide an explanation on what the actual meaning of \"loan_grade\" is. One can only assume that \"loan_grade\" is some kind of aggregated evaluation of the quality and therby the default probability of the loan. Additionally it´s not clear how a specific value in \"loan_grade\" for each loan comes to be. Because of this and because most of the false predictions have a value \"loan_grade > 3.5\", we can have a founded suspicion that having a value in \"loan_grade\" > 3.5 contains flawed information about whether a loan defaults or not. \n",
    "\n",
    " "
   ]
  },
  {
   "cell_type": "markdown",
   "metadata": {},
   "source": [
    "# 4. Interim result\n",
    "Through our error analysis we have isolated two potential reasons for the false predictions namely the filling in of the NaN values and having a value >3.5 in the column \"loan_grade\". In the next step we are going to test if those reasons were indeed responsible for the false predictions by finding a way of dealing with the potentially flawed informations and therby improving the performance of the model.\n"
   ]
  }
 ],
 "metadata": {
  "interpreter": {
   "hash": "5fcd92e81d356c53c6d134a21843f5af27b4ea41bc107c08a34e03baf722d2b4"
  },
  "kernelspec": {
   "display_name": "Python 3.9.12 ('base')",
   "language": "python",
   "name": "python3"
  },
  "language_info": {
   "codemirror_mode": {
    "name": "ipython",
    "version": 3
   },
   "file_extension": ".py",
   "mimetype": "text/x-python",
   "name": "python",
   "nbconvert_exporter": "python",
   "pygments_lexer": "ipython3",
   "version": "3.9.12"
  },
  "orig_nbformat": 4
 },
 "nbformat": 4,
 "nbformat_minor": 2
}
